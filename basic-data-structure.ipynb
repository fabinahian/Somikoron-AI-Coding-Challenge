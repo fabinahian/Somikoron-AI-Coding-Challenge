{
 "cells": [
  {
   "cell_type": "markdown",
   "id": "527d587b",
   "metadata": {
    "papermill": {
     "duration": 0.005914,
     "end_time": "2023-12-21T20:57:04.017049",
     "exception": false,
     "start_time": "2023-12-21T20:57:04.011135",
     "status": "completed"
    },
    "tags": []
   },
   "source": [
    "# ❓ Problem Statement:\n",
    "\n",
    "XYZ Company invested an average of 2 million BDT for each of its eight divisions in Bangladesh in the first year of operation for their new branches. The second and sixth divisions receive 30% and 50% more than the average budget, respectively. 1st, 3rd, 4th, 5th, 7th, and 8th divisions receive 50%, 5%, 7%, 11%, 19%, and 2% less funding than the average budget, accordingly. The budget for each division increases by double in the second year and by quadruple in the third year. Each year, each division's profit is half of the value of every year's budget. \n",
    "\n",
    "- #### Make 4 separate lists\n",
    "\t- One for 8 divisions\n",
    "\t- The remaining three for 3 years' profits\n",
    "- #### Make a tuple using the resulting 4 lists\n",
    "- #### Convert the tuple to the dictionary \n",
    "- #### Make a data frame from the tuple and set index as Year1, Year2, Year3\n",
    "- #### Visualize the data frame using horizontal bar plot\n",
    "    - Label the both axis accordingly\n",
    "    - Give the title as `Year wise Eight Divisions Profit(in BDT)`"
   ]
  },
  {
   "cell_type": "markdown",
   "id": "88f93b15",
   "metadata": {
    "papermill": {
     "duration": 0.0052,
     "end_time": "2023-12-21T20:57:04.027958",
     "exception": false,
     "start_time": "2023-12-21T20:57:04.022758",
     "status": "completed"
    },
    "tags": []
   },
   "source": [
    "# ✤ Mathematical Calculation / Thought Journey\n",
    "\n",
    "**Average Budget: 2 000 000 BDT**\n",
    "\n",
    "1. **For the First Year:**\n",
    "\n",
    "   * First Division:    \n",
    "   2 000 000 x (1 - 0.50) = 1 000 000\n",
    "   \n",
    "   * Second Division:   \n",
    "   2 000 000 x (1 + 0.30) = 2 600 000\n",
    "   \n",
    "   * Third Division:    \n",
    "   2 000 000 x (1 - 0.05) = 1 900 000\n",
    "   \n",
    "   * Fourth Division:   \n",
    "   2 000 000 x (1 - 0.07) = 1 859 999 . 99\n",
    "   \n",
    "   * Fifth Division:    \n",
    "   2 000 000 x (1 - 0.11) = 1 780 000\n",
    "   \n",
    "   * Sixth Division:    \n",
    "   2 000 000 x (1 + 0.50) = 3 000 000\n",
    "   \n",
    "   * Seventh Division:  \n",
    "   2 000 000 x (1 - 0.19) = 1 620 000\n",
    "   \n",
    "   * Eighth Division:   \n",
    "   2 000 000 x (1 - 0.02) = 1 960 000\n",
    "   \n",
    "2. **For the Second Year:** Budget of Respective Division x 2\n",
    "3. **For the Third Year:** Budget of Respective Division x 4\n",
    "4. **Profit Per Division:** Budget of Respective Division / 2"
   ]
  },
  {
   "cell_type": "markdown",
   "id": "130f3d6e",
   "metadata": {
    "papermill": {
     "duration": 0.005216,
     "end_time": "2023-12-21T20:57:04.038588",
     "exception": false,
     "start_time": "2023-12-21T20:57:04.033372",
     "status": "completed"
    },
    "tags": []
   },
   "source": [
    "# ✤ Importing Libraries"
   ]
  },
  {
   "cell_type": "code",
   "execution_count": 1,
   "id": "849fc377",
   "metadata": {
    "execution": {
     "iopub.execute_input": "2023-12-21T20:57:04.052087Z",
     "iopub.status.busy": "2023-12-21T20:57:04.051398Z",
     "iopub.status.idle": "2023-12-21T20:57:04.747932Z",
     "shell.execute_reply": "2023-12-21T20:57:04.747020Z"
    },
    "papermill": {
     "duration": 0.70566,
     "end_time": "2023-12-21T20:57:04.750211",
     "exception": false,
     "start_time": "2023-12-21T20:57:04.044551",
     "status": "completed"
    },
    "tags": []
   },
   "outputs": [],
   "source": [
    "import pandas as pd\n",
    "import matplotlib.pyplot as plt"
   ]
  },
  {
   "cell_type": "markdown",
   "id": "bbdca026",
   "metadata": {
    "papermill": {
     "duration": 0.005234,
     "end_time": "2023-12-21T20:57:04.761267",
     "exception": false,
     "start_time": "2023-12-21T20:57:04.756033",
     "status": "completed"
    },
    "tags": []
   },
   "source": [
    "# ✤ Budget Calculators"
   ]
  },
  {
   "cell_type": "code",
   "execution_count": 2,
   "id": "14c6f07b",
   "metadata": {
    "execution": {
     "iopub.execute_input": "2023-12-21T20:57:04.773260Z",
     "iopub.status.busy": "2023-12-21T20:57:04.772888Z",
     "iopub.status.idle": "2023-12-21T20:57:04.779045Z",
     "shell.execute_reply": "2023-12-21T20:57:04.778247Z"
    },
    "papermill": {
     "duration": 0.014212,
     "end_time": "2023-12-21T20:57:04.780847",
     "exception": false,
     "start_time": "2023-12-21T20:57:04.766635",
     "status": "completed"
    },
    "tags": []
   },
   "outputs": [],
   "source": [
    "avg_budget = 2_000_000\n",
    "\n",
    "#for year 01\n",
    "\n",
    "def y1_budget(add, percentage):\n",
    "\n",
    "# add == True : the budget is more than the average.\n",
    "# add == False: the budget is less than the average.\n",
    "   \n",
    "# percentage: the amount by which the budget is changing.\n",
    "\n",
    "# eg. 30% more means the budget is 30% more than the average.\n",
    "    \n",
    "    if (add == True):\n",
    "        \n",
    "        budget = avg_budget * (1 + (percentage/100.0))\n",
    "        \n",
    "    else:\n",
    "        \n",
    "        budget = avg_budget * (1 - (percentage/100.0))\n",
    "        \n",
    "    return budget\n",
    "\n",
    "#for year 02\n",
    "\n",
    "def y2_budget(budget_y1): #The budget for each division increases by double in the second year.\n",
    "    \n",
    "    budget_y2 = budget_y1 * 2\n",
    "    \n",
    "    return budget_y2\n",
    "\n",
    "#for year 02\n",
    "\n",
    "def y3_budget(budget_y2): #The budget for each division increases by quadruple in the third year.\n",
    "\n",
    "    budget_y3 = budget_y2 * 4\n",
    "    \n",
    "    return budget_y3"
   ]
  },
  {
   "cell_type": "markdown",
   "id": "f5f05c48",
   "metadata": {
    "papermill": {
     "duration": 0.005195,
     "end_time": "2023-12-21T20:57:04.791452",
     "exception": false,
     "start_time": "2023-12-21T20:57:04.786257",
     "status": "completed"
    },
    "tags": []
   },
   "source": [
    "# ✤ Calculating and Listing the Budgets"
   ]
  },
  {
   "cell_type": "code",
   "execution_count": 3,
   "id": "e031e0be",
   "metadata": {
    "execution": {
     "iopub.execute_input": "2023-12-21T20:57:04.803330Z",
     "iopub.status.busy": "2023-12-21T20:57:04.803045Z",
     "iopub.status.idle": "2023-12-21T20:57:04.813442Z",
     "shell.execute_reply": "2023-12-21T20:57:04.812654Z"
    },
    "papermill": {
     "duration": 0.018867,
     "end_time": "2023-12-21T20:57:04.815638",
     "exception": false,
     "start_time": "2023-12-21T20:57:04.796771",
     "status": "completed"
    },
    "tags": []
   },
   "outputs": [
    {
     "name": "stdout",
     "output_type": "stream",
     "text": [
      "Budget of Year 01 for 8 Divisions:  [1000000.0, 2600000.0, 1900000.0, 1859999.9999999998, 1780000.0, 3000000.0, 1620000.0, 1960000.0]\n",
      "Budget of Year 02 for 8 Divisions:  [2000000.0, 5200000.0, 3800000.0, 3719999.9999999995, 3560000.0, 6000000.0, 3240000.0, 3920000.0]\n",
      "Budget of Year 03 for 8 Divisions:  [8000000.0, 20800000.0, 15200000.0, 14879999.999999998, 14240000.0, 24000000.0, 12960000.0, 15680000.0]\n"
     ]
    }
   ],
   "source": [
    "#for year 01\n",
    "\n",
    "div1_y1_budget = y1_budget(False, 50)\n",
    "div2_y1_budget = y1_budget(True, 30)\n",
    "div3_y1_budget = y1_budget(False, 5)\n",
    "div4_y1_budget = y1_budget(False, 7)\n",
    "div5_y1_budget = y1_budget(False, 11)\n",
    "div6_y1_budget = y1_budget(True, 50)\n",
    "div7_y1_budget = y1_budget(False, 19)\n",
    "div8_y1_budget = y1_budget(False, 2)\n",
    "\n",
    "budget_y1_list = [div1_y1_budget,\n",
    "                  div2_y1_budget,\n",
    "                  div3_y1_budget,\n",
    "                  div4_y1_budget,\n",
    "                  div5_y1_budget,\n",
    "                  div6_y1_budget,\n",
    "                  div7_y1_budget,\n",
    "                  div8_y1_budget]\n",
    "\n",
    "print(\"Budget of Year 01 for 8 Divisions: \",budget_y1_list)\n",
    "\n",
    "#for year 02\n",
    "\n",
    "div1_y2_budget = y2_budget(div1_y1_budget)\n",
    "div2_y2_budget = y2_budget(div2_y1_budget)\n",
    "div3_y2_budget = y2_budget(div3_y1_budget)\n",
    "div4_y2_budget = y2_budget(div4_y1_budget)\n",
    "div5_y2_budget = y2_budget(div5_y1_budget)\n",
    "div6_y2_budget = y2_budget(div6_y1_budget)\n",
    "div7_y2_budget = y2_budget(div7_y1_budget)\n",
    "div8_y2_budget = y2_budget(div8_y1_budget)\n",
    "\n",
    "budget_y2_list = [div1_y2_budget,\n",
    "                  div2_y2_budget,\n",
    "                  div3_y2_budget,\n",
    "                  div4_y2_budget,\n",
    "                  div5_y2_budget,\n",
    "                  div6_y2_budget,\n",
    "                  div7_y2_budget,\n",
    "                  div8_y2_budget]\n",
    "\n",
    "print(\"Budget of Year 02 for 8 Divisions: \",budget_y2_list)\n",
    "\n",
    "#for year 03\n",
    "\n",
    "div1_y3_budget = y3_budget(div1_y2_budget)\n",
    "div2_y3_budget = y3_budget(div2_y2_budget)\n",
    "div3_y3_budget = y3_budget(div3_y2_budget)\n",
    "div4_y3_budget = y3_budget(div4_y2_budget)\n",
    "div5_y3_budget = y3_budget(div5_y2_budget)\n",
    "div6_y3_budget = y3_budget(div6_y2_budget)\n",
    "div7_y3_budget = y3_budget(div7_y2_budget)\n",
    "div8_y3_budget = y3_budget(div8_y2_budget)\n",
    "\n",
    "budget_y3_list = [div1_y3_budget,\n",
    "                  div2_y3_budget,\n",
    "                  div3_y3_budget,\n",
    "                  div4_y3_budget,\n",
    "                  div5_y3_budget,\n",
    "                  div6_y3_budget,\n",
    "                  div7_y3_budget,\n",
    "                  div8_y3_budget]\n",
    "\n",
    "print(\"Budget of Year 03 for 8 Divisions: \",budget_y3_list)"
   ]
  },
  {
   "cell_type": "markdown",
   "id": "fca0ee89",
   "metadata": {
    "papermill": {
     "duration": 0.005246,
     "end_time": "2023-12-21T20:57:04.826418",
     "exception": false,
     "start_time": "2023-12-21T20:57:04.821172",
     "status": "completed"
    },
    "tags": []
   },
   "source": [
    "# ✤ Profit Calculator"
   ]
  },
  {
   "cell_type": "code",
   "execution_count": 4,
   "id": "b85e9c40",
   "metadata": {
    "execution": {
     "iopub.execute_input": "2023-12-21T20:57:04.838149Z",
     "iopub.status.busy": "2023-12-21T20:57:04.837890Z",
     "iopub.status.idle": "2023-12-21T20:57:04.842197Z",
     "shell.execute_reply": "2023-12-21T20:57:04.841345Z"
    },
    "papermill": {
     "duration": 0.012311,
     "end_time": "2023-12-21T20:57:04.844137",
     "exception": false,
     "start_time": "2023-12-21T20:57:04.831826",
     "status": "completed"
    },
    "tags": []
   },
   "outputs": [],
   "source": [
    "def profit_calculator(budget_list):\n",
    "    \n",
    "    profit_list = []\n",
    "    \n",
    "    for each_budget in budget_list:\n",
    "    \n",
    "        profit_list.append(each_budget / 2)\n",
    "    \n",
    "    return profit_list"
   ]
  },
  {
   "cell_type": "markdown",
   "id": "5397fccd",
   "metadata": {
    "papermill": {
     "duration": 0.005208,
     "end_time": "2023-12-21T20:57:04.854862",
     "exception": false,
     "start_time": "2023-12-21T20:57:04.849654",
     "status": "completed"
    },
    "tags": []
   },
   "source": [
    "# ✤ Calculating the Profits"
   ]
  },
  {
   "cell_type": "code",
   "execution_count": 5,
   "id": "7dbd40d2",
   "metadata": {
    "execution": {
     "iopub.execute_input": "2023-12-21T20:57:04.866643Z",
     "iopub.status.busy": "2023-12-21T20:57:04.866404Z",
     "iopub.status.idle": "2023-12-21T20:57:04.870207Z",
     "shell.execute_reply": "2023-12-21T20:57:04.869438Z"
    },
    "papermill": {
     "duration": 0.012161,
     "end_time": "2023-12-21T20:57:04.872406",
     "exception": false,
     "start_time": "2023-12-21T20:57:04.860245",
     "status": "completed"
    },
    "tags": []
   },
   "outputs": [],
   "source": [
    "profit_y1_list = profit_calculator(budget_y1_list)\n",
    "profit_y2_list = profit_calculator(budget_y2_list)\n",
    "profit_y3_list = profit_calculator(budget_y3_list)"
   ]
  },
  {
   "cell_type": "markdown",
   "id": "a85ea78a",
   "metadata": {
    "papermill": {
     "duration": 0.005309,
     "end_time": "2023-12-21T20:57:04.883346",
     "exception": false,
     "start_time": "2023-12-21T20:57:04.878037",
     "status": "completed"
    },
    "tags": []
   },
   "source": [
    "# ✤ Displaying the Lists"
   ]
  },
  {
   "cell_type": "code",
   "execution_count": 6,
   "id": "e31adb66",
   "metadata": {
    "_kg_hide-output": false,
    "execution": {
     "iopub.execute_input": "2023-12-21T20:57:04.895098Z",
     "iopub.status.busy": "2023-12-21T20:57:04.894844Z",
     "iopub.status.idle": "2023-12-21T20:57:04.900588Z",
     "shell.execute_reply": "2023-12-21T20:57:04.899787Z"
    },
    "papermill": {
     "duration": 0.014019,
     "end_time": "2023-12-21T20:57:04.902753",
     "exception": false,
     "start_time": "2023-12-21T20:57:04.888734",
     "status": "completed"
    },
    "tags": []
   },
   "outputs": [
    {
     "name": "stdout",
     "output_type": "stream",
     "text": [
      "List for Divisions:\n",
      "['Division1', 'Division2', 'Division3', 'Division4', 'Division5', 'Division6', 'Division7', 'Division8']\n",
      "\n",
      "\n",
      "List for 1st year's profit:\n",
      "[500000.0, 1300000.0, 950000.0, 929999.9999999999, 890000.0, 1500000.0, 810000.0, 980000.0]\n",
      "\n",
      "\n",
      "List for 2nd year's profit:\n",
      "[1000000.0, 2600000.0, 1900000.0, 1859999.9999999998, 1780000.0, 3000000.0, 1620000.0, 1960000.0]\n",
      "\n",
      "\n",
      "List for 3rd year's profit:\n",
      "[4000000.0, 10400000.0, 7600000.0, 7439999.999999999, 7120000.0, 12000000.0, 6480000.0, 7840000.0]\n"
     ]
    }
   ],
   "source": [
    "#creating a list of divisions\n",
    "\n",
    "divisions = []\n",
    "\n",
    "for i in range(1, 9):\n",
    "    divisions.append(f\"Division{i}\")\n",
    "    \n",
    "#displaying ALL lists\n",
    "\n",
    "print(\"List for Divisions:\")\n",
    "print(divisions)\n",
    "print(\"\\n\")\n",
    "\n",
    "print(\"List for 1st year's profit:\")\n",
    "print(profit_y1_list)\n",
    "print(\"\\n\")\n",
    "\n",
    "print(\"List for 2nd year's profit:\")\n",
    "print(profit_y2_list)\n",
    "print(\"\\n\")\n",
    "\n",
    "print(\"List for 3rd year's profit:\")\n",
    "print(profit_y3_list)"
   ]
  },
  {
   "cell_type": "markdown",
   "id": "70ece1a7",
   "metadata": {
    "papermill": {
     "duration": 0.005365,
     "end_time": "2023-12-21T20:57:04.913675",
     "exception": false,
     "start_time": "2023-12-21T20:57:04.908310",
     "status": "completed"
    },
    "tags": []
   },
   "source": [
    "# ✤ Creating a Tuple of All Divisions and Thier Profits"
   ]
  },
  {
   "cell_type": "code",
   "execution_count": 7,
   "id": "2a00c615",
   "metadata": {
    "execution": {
     "iopub.execute_input": "2023-12-21T20:57:04.925885Z",
     "iopub.status.busy": "2023-12-21T20:57:04.925625Z",
     "iopub.status.idle": "2023-12-21T20:57:04.933407Z",
     "shell.execute_reply": "2023-12-21T20:57:04.932539Z"
    },
    "papermill": {
     "duration": 0.016199,
     "end_time": "2023-12-21T20:57:04.935552",
     "exception": false,
     "start_time": "2023-12-21T20:57:04.919353",
     "status": "completed"
    },
    "tags": []
   },
   "outputs": [
    {
     "name": "stdout",
     "output_type": "stream",
     "text": [
      "Tuple Containing Divisions and 3 years' Profits:\n",
      "\n"
     ]
    },
    {
     "data": {
      "text/plain": [
       "(('Division1', 500000.0, 1000000.0, 4000000.0),\n",
       " ('Division2', 1300000.0, 2600000.0, 10400000.0),\n",
       " ('Division3', 950000.0, 1900000.0, 7600000.0),\n",
       " ('Division4', 929999.9999999999, 1859999.9999999998, 7439999.999999999),\n",
       " ('Division5', 890000.0, 1780000.0, 7120000.0),\n",
       " ('Division6', 1500000.0, 3000000.0, 12000000.0),\n",
       " ('Division7', 810000.0, 1620000.0, 6480000.0),\n",
       " ('Division8', 980000.0, 1960000.0, 7840000.0))"
      ]
     },
     "execution_count": 7,
     "metadata": {},
     "output_type": "execute_result"
    }
   ],
   "source": [
    "new_list = list(zip(divisions, profit_y1_list, profit_y2_list, profit_y3_list))\n",
    "\n",
    "division_profit_tuple = tuple(new_list)\n",
    "\n",
    "print(\"Tuple Containing Divisions and 3 years' Profits:\\n\")\n",
    "division_profit_tuple"
   ]
  },
  {
   "cell_type": "markdown",
   "id": "52c55f38",
   "metadata": {
    "papermill": {
     "duration": 0.005619,
     "end_time": "2023-12-21T20:57:04.946977",
     "exception": false,
     "start_time": "2023-12-21T20:57:04.941358",
     "status": "completed"
    },
    "tags": []
   },
   "source": [
    "# ✤ Converting the Tuple into a Dictionary"
   ]
  },
  {
   "cell_type": "code",
   "execution_count": 8,
   "id": "5d3534e6",
   "metadata": {
    "execution": {
     "iopub.execute_input": "2023-12-21T20:57:04.959800Z",
     "iopub.status.busy": "2023-12-21T20:57:04.959534Z",
     "iopub.status.idle": "2023-12-21T20:57:04.966018Z",
     "shell.execute_reply": "2023-12-21T20:57:04.965238Z"
    },
    "papermill": {
     "duration": 0.015096,
     "end_time": "2023-12-21T20:57:04.967925",
     "exception": false,
     "start_time": "2023-12-21T20:57:04.952829",
     "status": "completed"
    },
    "tags": []
   },
   "outputs": [
    {
     "data": {
      "text/plain": [
       "{'Division1': [500000.0, 1000000.0, 4000000.0],\n",
       " 'Division2': [1300000.0, 2600000.0, 10400000.0],\n",
       " 'Division3': [950000.0, 1900000.0, 7600000.0],\n",
       " 'Division4': [929999.9999999999, 1859999.9999999998, 7439999.999999999],\n",
       " 'Division5': [890000.0, 1780000.0, 7120000.0],\n",
       " 'Division6': [1500000.0, 3000000.0, 12000000.0],\n",
       " 'Division7': [810000.0, 1620000.0, 6480000.0],\n",
       " 'Division8': [980000.0, 1960000.0, 7840000.0]}"
      ]
     },
     "execution_count": 8,
     "metadata": {},
     "output_type": "execute_result"
    }
   ],
   "source": [
    "dictionary = {} #creating a blank dictionary\n",
    "\n",
    "for i in range (8):\n",
    "    dictionary.update( {division_profit_tuple [i][0]: list(division_profit_tuple[i][1:])}) #updating with each iteration\n",
    "    \n",
    "dictionary"
   ]
  },
  {
   "cell_type": "markdown",
   "id": "5a4dfc26",
   "metadata": {
    "papermill": {
     "duration": 0.005781,
     "end_time": "2023-12-21T20:57:04.979584",
     "exception": false,
     "start_time": "2023-12-21T20:57:04.973803",
     "status": "completed"
    },
    "tags": []
   },
   "source": [
    "# ✤ Data Frame from Dictionary"
   ]
  },
  {
   "cell_type": "code",
   "execution_count": 9,
   "id": "3bc0ab78",
   "metadata": {
    "execution": {
     "iopub.execute_input": "2023-12-21T20:57:04.992646Z",
     "iopub.status.busy": "2023-12-21T20:57:04.992170Z",
     "iopub.status.idle": "2023-12-21T20:57:05.018504Z",
     "shell.execute_reply": "2023-12-21T20:57:05.017667Z"
    },
    "papermill": {
     "duration": 0.034932,
     "end_time": "2023-12-21T20:57:05.020434",
     "exception": false,
     "start_time": "2023-12-21T20:57:04.985502",
     "status": "completed"
    },
    "tags": []
   },
   "outputs": [
    {
     "data": {
      "text/html": [
       "<div>\n",
       "<style scoped>\n",
       "    .dataframe tbody tr th:only-of-type {\n",
       "        vertical-align: middle;\n",
       "    }\n",
       "\n",
       "    .dataframe tbody tr th {\n",
       "        vertical-align: top;\n",
       "    }\n",
       "\n",
       "    .dataframe thead th {\n",
       "        text-align: right;\n",
       "    }\n",
       "</style>\n",
       "<table border=\"1\" class=\"dataframe\">\n",
       "  <thead>\n",
       "    <tr style=\"text-align: right;\">\n",
       "      <th></th>\n",
       "      <th>Division1</th>\n",
       "      <th>Division2</th>\n",
       "      <th>Division3</th>\n",
       "      <th>Division4</th>\n",
       "      <th>Division5</th>\n",
       "      <th>Division6</th>\n",
       "      <th>Division7</th>\n",
       "      <th>Division8</th>\n",
       "    </tr>\n",
       "  </thead>\n",
       "  <tbody>\n",
       "    <tr>\n",
       "      <th>year1</th>\n",
       "      <td>500000.0</td>\n",
       "      <td>1300000.0</td>\n",
       "      <td>950000.0</td>\n",
       "      <td>930000.0</td>\n",
       "      <td>890000.0</td>\n",
       "      <td>1500000.0</td>\n",
       "      <td>810000.0</td>\n",
       "      <td>980000.0</td>\n",
       "    </tr>\n",
       "    <tr>\n",
       "      <th>year2</th>\n",
       "      <td>1000000.0</td>\n",
       "      <td>2600000.0</td>\n",
       "      <td>1900000.0</td>\n",
       "      <td>1860000.0</td>\n",
       "      <td>1780000.0</td>\n",
       "      <td>3000000.0</td>\n",
       "      <td>1620000.0</td>\n",
       "      <td>1960000.0</td>\n",
       "    </tr>\n",
       "    <tr>\n",
       "      <th>year3</th>\n",
       "      <td>4000000.0</td>\n",
       "      <td>10400000.0</td>\n",
       "      <td>7600000.0</td>\n",
       "      <td>7440000.0</td>\n",
       "      <td>7120000.0</td>\n",
       "      <td>12000000.0</td>\n",
       "      <td>6480000.0</td>\n",
       "      <td>7840000.0</td>\n",
       "    </tr>\n",
       "  </tbody>\n",
       "</table>\n",
       "</div>"
      ],
      "text/plain": [
       "       Division1   Division2  Division3  Division4  Division5   Division6  \\\n",
       "year1   500000.0   1300000.0   950000.0   930000.0   890000.0   1500000.0   \n",
       "year2  1000000.0   2600000.0  1900000.0  1860000.0  1780000.0   3000000.0   \n",
       "year3  4000000.0  10400000.0  7600000.0  7440000.0  7120000.0  12000000.0   \n",
       "\n",
       "       Division7  Division8  \n",
       "year1   810000.0   980000.0  \n",
       "year2  1620000.0  1960000.0  \n",
       "year3  6480000.0  7840000.0  "
      ]
     },
     "execution_count": 9,
     "metadata": {},
     "output_type": "execute_result"
    }
   ],
   "source": [
    "#creating the data frame\n",
    "\n",
    "df = pd.DataFrame.from_dict(dictionary)\n",
    "\n",
    "#setting the index of the data frame\n",
    "\n",
    "index = pd.Index(['year1', 'year2', 'year3'])\n",
    "df = df.set_index(index)\n",
    "\n",
    "df"
   ]
  },
  {
   "cell_type": "markdown",
   "id": "4686fd5d",
   "metadata": {
    "papermill": {
     "duration": 0.005909,
     "end_time": "2023-12-21T20:57:05.032960",
     "exception": false,
     "start_time": "2023-12-21T20:57:05.027051",
     "status": "completed"
    },
    "tags": []
   },
   "source": [
    "# ✤ Horizontal Bar Plot from Data Frame"
   ]
  },
  {
   "cell_type": "code",
   "execution_count": 10,
   "id": "3c059158",
   "metadata": {
    "execution": {
     "iopub.execute_input": "2023-12-21T20:57:05.046142Z",
     "iopub.status.busy": "2023-12-21T20:57:05.045909Z",
     "iopub.status.idle": "2023-12-21T20:57:05.354140Z",
     "shell.execute_reply": "2023-12-21T20:57:05.353293Z"
    },
    "papermill": {
     "duration": 0.31704,
     "end_time": "2023-12-21T20:57:05.356099",
     "exception": false,
     "start_time": "2023-12-21T20:57:05.039059",
     "status": "completed"
    },
    "tags": []
   },
   "outputs": [
    {
     "data": {
      "image/png": "[encoded data removed]",
      "text/plain": [
       "<Figure size 640x480 with 1 Axes>"
      ]
     },
     "metadata": {},
     "output_type": "display_data"
    }
   ],
   "source": [
    "df.plot.barh()\n",
    "\n",
    "plt.title('year wise 8 Divisions Profit (in BDT)')\n",
    "plt.ylabel('Year')\n",
    "plt.xlabel('Profit Amount in BDT')\n",
    "plt.show()"
   ]
  }
 ],
 "metadata": {
  "kaggle": {
   "accelerator": "gpu",
   "dataSources": [],
   "dockerImageVersionId": 30626,
   "isGpuEnabled": true,
   "isInternetEnabled": true,
   "language": "python",
   "sourceType": "notebook"
  },
  "kernelspec": {
   "display_name": "Python 3",
   "language": "python",
   "name": "python3"
  },
  "language_info": {
   "codemirror_mode": {
    "name": "ipython",
    "version": 3
   },
   "file_extension": ".py",
   "mimetype": "text/x-python",
   "name": "python",
   "nbconvert_exporter": "python",
   "pygments_lexer": "ipython3",
   "version": "3.10.12"
  },
  "papermill": {
   "default_parameters": {},
   "duration": 4.982478,
   "end_time": "2023-12-21T20:57:05.680639",
   "environment_variables": {},
   "exception": null,
   "input_path": "__notebook__.ipynb",
   "output_path": "__notebook__.ipynb",
   "parameters": {},
   "start_time": "2023-12-21T20:57:00.698161",
   "version": "2.4.0"
  }
 },
 "nbformat": 4,
 "nbformat_minor": 5
}
